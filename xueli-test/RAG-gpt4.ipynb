{
 "cells": [
  {
   "cell_type": "markdown",
   "metadata": {},
   "source": [
    "### Create an assistant"
   ]
  },
  {
   "cell_type": "code",
   "execution_count": 9,
   "metadata": {},
   "outputs": [],
   "source": [
    "from openai import OpenAI\n",
    "import os\n",
    "\n",
    "\n",
    "assistant_name = 'sem-tab'\n",
    "assistant_instruction = '....'\n",
    "path = 'path'\n",
    "vector_store_name = 'sem-tab-input'\n",
    "key = os.environ.get(\"OPENAI_API_KEY\")\n",
    "\n",
    "client = OpenAI(api_key=key)\n",
    "assistant = client.beta.assistants.create(\n",
    "    name = assistant_name,\n",
    "    instructions=assistant_instruction,\n",
    "    tools=[{\"type\": \"file_search\"}],\n",
    "    model=\"gpt-4-turbo\",\n",
    "    temperature=0.2,\n",
    ")"
   ]
  },
  {
   "cell_type": "markdown",
   "metadata": {},
   "source": [
    "### Upload files and add them to a Vector Store"
   ]
  },
  {
   "cell_type": "code",
   "execution_count": 10,
   "metadata": {},
   "outputs": [
    {
     "name": "stdout",
     "output_type": "stream",
     "text": [
      "completed\n",
      "FileCounts(cancelled=0, completed=15, failed=0, in_progress=0, total=15)\n"
     ]
    }
   ],
   "source": [
    "import os\n",
    "\n",
    "def get_file_paths(folder_path):\n",
    "    file_paths = []\n",
    "    # Iterate through all files in the folder\n",
    "    for root, dirs, files in os.walk(folder_path):\n",
    "        for file_name in files:\n",
    "            # Get the absolute path of the file\n",
    "            file_path = os.path.join(root, file_name)\n",
    "            # Append the file path to the list\n",
    "            file_paths.append(file_path)\n",
    "    return file_paths\n",
    "\n",
    "# create a Vector Store\n",
    "vector_store = client.beta.vector_stores.create(name=vector_store_name)\n",
    "\n",
    "folder = path\n",
    "file_paths = get_file_paths(folder)\n",
    "file_streams = [open(path, 'rb') for path in file_paths]\n",
    "file_batch = client.beta.vector_stores.file_batches.upload_and_poll(\n",
    "    vector_store_id=vector_store.id,\n",
    "    files=file_streams\n",
    ")\n",
    "\n",
    "print(file_batch.status)\n",
    "print(file_batch.file_counts)"
   ]
  },
  {
   "cell_type": "markdown",
   "metadata": {},
   "source": [
    "### Update the assistant to use the new Vector Store"
   ]
  },
  {
   "cell_type": "code",
   "execution_count": 11,
   "metadata": {},
   "outputs": [],
   "source": [
    "assistant = client.beta.assistants.update(\n",
    "    assistant_id=assistant.id,\n",
    "    tools=[{\"type\": \"file_search\"}],\n",
    "    tool_resources={\"file_search\": {\"vector_store_ids\": [vector_store.id]}},\n",
    ")"
   ]
  },
  {
   "cell_type": "markdown",
   "metadata": {},
   "source": [
    "### Create a thread"
   ]
  },
  {
   "cell_type": "code",
   "execution_count": 12,
   "metadata": {},
   "outputs": [],
   "source": [
    "thread = client.beta.threads.create()"
   ]
  },
  {
   "cell_type": "markdown",
   "metadata": {},
   "source": [
    "### Add a message to the thread"
   ]
  },
  {
   "cell_type": "markdown",
   "metadata": {},
   "source": [
    "\n",
    "#### define get responce function"
   ]
  },
  {
   "cell_type": "code",
   "execution_count": 13,
   "metadata": {},
   "outputs": [],
   "source": [
    "def get_response(query,client,assistant,thread):\n",
    "    # add message to the thread\n",
    "    message = client.beta.threads.messages.create(\n",
    "        thread_id=thread.id,\n",
    "        role=\"user\",\n",
    "        content=query\n",
    "    )\n",
    "\n",
    "    # create a run\n",
    "    run = client.beta.threads.runs.create_and_poll(\n",
    "        thread_id=thread.id,\n",
    "        assistant_id=assistant.id\n",
    "    )\n",
    "\n",
    "    # get messages\n",
    "    messages = list(client.beta.threads.messages.list(thread_id=thread.id, run_id=run.id))\n",
    "    message_content = messages[0].content[0].text\n",
    "    # print(f'message_content: {message_content}')\n",
    "    annotations = message_content.annotations\n",
    "    citations = []\n",
    "    for index, annotation in enumerate(annotations):\n",
    "        message_content.value = message_content.value.replace(annotation.text, f\"[{index}]\")\n",
    "        if file_citation := getattr(annotation, \"file_citation\", None):\n",
    "            cited_file = client.files.retrieve(file_citation.file_id)\n",
    "            citations.append(f\"[{index}] {cited_file.filename}\")\n",
    "\n",
    "    # print(message_content.value)\n",
    "    # print(\"\\n\".join(citations))\n",
    "    return message_content.value,citations"
   ]
  },
  {
   "cell_type": "markdown",
   "metadata": {},
   "source": [
    "#### query 1"
   ]
  },
  {
   "cell_type": "code",
   "execution_count": 14,
   "metadata": {},
   "outputs": [
    {
     "name": "stdout",
     "output_type": "stream",
     "text": [
      "************\n",
      "query: what is requirments engineering\n",
      "response: Requirements Engineering (RE) is a discipline within software engineering and systems engineering that focuses on determining the needs or conditions to meet for a new or altered product, taking account of the possibly conflicting requirements of the various stakeholders, such as beneficiaries or users. RE involves various activities such as requirements elicitation, requirements analysis, requirements specification, requirements validation, and requirements management. The goal is to produce a comprehensive and detailed set of requirements for the system that can serve as a basis for subsequent stages of product development, ensuring that the final product meets the needs of its users and stakeholders.\n",
      "reference: []\n"
     ]
    }
   ],
   "source": [
    "query = \"what is requirments engineering\"\n",
    "response = get_response(query,client,assistant,thread)\n",
    "print(\"************\")\n",
    "print(f\"query: {query}\")\n",
    "print(f'response: {response[0]}')\n",
    "print(f\"reference: {response[1]}\")"
   ]
  },
  {
   "cell_type": "code",
   "execution_count": 15,
   "metadata": {},
   "outputs": [
    {
     "name": "stdout",
     "output_type": "stream",
     "text": [
      "************\n",
      "query: what is requirments engineering\n",
      "response: Requirements Engineering (RE) is a crucial phase in the development of systems and software projects, focusing on identifying, documenting, and maintaining a set of requirements. It involves several key activities:\n",
      "\n",
      "1. **Requirements Elicitation**: Gathering requirements from stakeholders, users, and other sources.\n",
      "2. **Requirements Analysis**: Analyzing the requirements for feasibility, clarity, and conflicts.\n",
      "3. **Requirements Specification**: Documenting the requirements in a detailed, clear, and precise manner.\n",
      "4. **Requirements Validation**: Ensuring the requirements accurately reflect the needs of stakeholders and are consistent.\n",
      "5. **Requirements Management**: Managing changes to requirements as the system evolves.\n",
      "\n",
      "The main goal of Requirements Engineering is to ensure that the system or software developed meets the needs of users and stakeholders, aligns with business objectives, and is feasible within technological and financial constraints. This process helps in minimizing the risk of project failure due to misunderstood or incomplete requirements.\n",
      "reference: []\n"
     ]
    }
   ],
   "source": [
    "query = \"what is requirments engineering\"\n",
    "response = get_response(query,client,assistant,thread)\n",
    "print(\"************\")\n",
    "print(f\"query: {query}\")\n",
    "print(f'response: {response[0]}')\n",
    "print(f\"reference: {response[1]}\")"
   ]
  },
  {
   "cell_type": "markdown",
   "metadata": {},
   "source": [
    "#### query 2"
   ]
  },
  {
   "cell_type": "code",
   "execution_count": 12,
   "metadata": {},
   "outputs": [
    {
     "name": "stdout",
     "output_type": "stream",
     "text": [
      "message_content: Text(annotations=[], value=\"To develop a comprehensive set of competency questions for a knowledge graph on empirical research in Requirements Engineering, these questions should encompass various aspects of the field, including methodologies, findings, trends, and contributions from scholars. Here's a list of 70 competency questions that cover these aspects:\\n\\n1. What are the key methodologies used in empirical research in Requirements Engineering?\\n2. How have the research methodologies in Requirements Engineering evolved over the last decade?\\n3. What are the most cited papers in Requirements Engineering?\\n4. Which researchers have contributed significantly to Requirements Engineering?\\n5. What universities are known for their research in Requirements Engineering?\\n6. What funding sources commonly support Requirements Engineering research?\\n7. How do empirical results influence the practices in Requirements Engineering?\\n8. What software tools are frequently used in Requirements Engineering research?\\n9. What are the main challenges faced in Requirements Engineering according to empirical studies?\\n10. Which conferences focus on Requirements Engineering?\\n11. What journals frequently publish research on Requirements Engineering?\\n12. What are the emerging trends in Requirements Engineering research?\\n13. How is machine learning being integrated into Requirements Engineering?\\n14. What empirical studies focus on Requirements Engineering in agile methodologies?\\n15. What case studies have been pivotal in shaping Requirements Engineering practices?\\n16. How do geographical regions impact trends in Requirements Engineering research?\\n17. What collaboration networks exist among researchers in Requirements Engineering?\\n18. What role does education play in evolving Requirements Engineering methodologies?\\n19. How does industry collaboration affect the outcomes of Requirements Engineering research?\\n20. What theoretical frameworks are often applied in Requirements Engineering studies?\\n21. What are the most common tools and techniques for requirements elicitation in empirical studies?\\n22. How does Requirements Engineering adapt to different software development life cycles?\\n23. What are the prevalent issues in the specification and documentation phase of Requirements Engineering?\\n24. How does Requirements Engineering address security requirements?\\n25. What are the best practices for managing changing requirements in a project?\\n26. What methodologies are being used in cross-domain Requirements Engineering research?\\n27. How are non-functional requirements handled in empirical research?\\n28. What are the socio-technical aspects considered in Requirements Engineering studies?\\n29. How are requirements prioritization techniques evaluated in empirical research?\\n30. What impact do regulatory requirements have on the engineering process?\\n31. How effective are visualization tools in communicating requirements?\\n32. What empirical research addresses collaboration in distributed Requirements Engineering teams?\\n33. How are requirements verified and validated in different industry contexts?\\n34. What impact has cloud computing had on Requirements Engineering practices?\\n35. How do empirical studies measure the success of Requirements Engineering processes?\\n36. What are the latest innovations in Requirements Engineering documented through empirical research?\\n37. What role do stakeholder interviews play in the empirical research of Requirements Engineering?\\n38. How do cultural differences impact Requirements Engineering practices?\\n39. What types of requirements conflicts are commonly reported in empirical studies?\\n40. How does Requirements Engineering interact with user experience design?\\n41. What challenges do emerging technologies like IoT pose for Requirements Engineering?\\n42. How do Requirements Engineering processes differ between software products and services?\\n43. What are some case examples of successful Requirements Engineering in large-scale projects?\\n44. How are privacy concerns addressed in Requirements Engineering according to empirical studies?\\n45. What are the ethical considerations in the data gathering phase of Requirements Engineering?\\n46. How are Requirements Engineering practices adapted for open-source projects?\\n47. What assessment tools are available for evaluating the efficacy of Requirements Engineering processes?\\n48. What training methods are effective for Requirements Engineering roles according to empirical studies?\\n49. How does communication among stakeholders influence Requirements Engineering outcomes?\\n50. What processes are recommended for the maintenance of requirements after deployment?\\n51. What empirical research exists on Requirements Engineering in government projects?\\n52. How does artificial intelligence influence the future directions of Requirements Engineering?\\n53. What methodologies are proposed for linking business goals with technical requirements?\\n54. How does Requirements Engineering manage the risk of project failure?\\n55. What strategies are employed for requirements traceability in software projects?\\n56. What role does Requirements Engineering play in disaster recovery planning?\\n57. What metrics are most effective for quantifying the performance of Requirements Engineering?\\n58. How are dependencies between requirements managed in complex systems?\\n59. What are the comparative studies on traditional vs contemporary RE techniques?\\n60. How are stakeholder feedback mechanisms designed in Requirements Engineering processes?\\n61. What research covers conflict resolution strategies in Requirements Engineering?\\n62. What are the implications of budget constraints on Requirements Engineering?\\n63. How are different graphical models utilized in Requirements Engineering studies?\\n64. What are the success stories of Requirements Engineering in critical systems like healthcare or aerospace?\\n65. How do requirements evolve during the software development cycle in empirical studies?\\n66. What are the frequent misconceptions about Requirements Engineering in the academic sphere?\\n67. How does legislation impact Requirements Engineering processes?\\n68. What are the implications of global pandemics on Requirements Engineering?\\n69. What empirical studies focus on Requirements Engineering for mobile applications?\\n70. How do empirical studies suggest improving client-stakeholder communication in Requirements Engineering?\\n\\nThese questions will guide the development and evaluation of your knowledge graph, ensuring it addresses the significant facets of empirical research in Requirements Engineering.\")\n",
      "query: Now you are developing an knowledge graph about the state and evolution of the empirical research in Requirements Engineering. Derive 70 competency questions.\n",
      "response: To develop a comprehensive set of competency questions for a knowledge graph on empirical research in Requirements Engineering, these questions should encompass various aspects of the field, including methodologies, findings, trends, and contributions from scholars. Here's a list of 70 competency questions that cover these aspects:\n",
      "\n",
      "1. What are the key methodologies used in empirical research in Requirements Engineering?\n",
      "2. How have the research methodologies in Requirements Engineering evolved over the last decade?\n",
      "3. What are the most cited papers in Requirements Engineering?\n",
      "4. Which researchers have contributed significantly to Requirements Engineering?\n",
      "5. What universities are known for their research in Requirements Engineering?\n",
      "6. What funding sources commonly support Requirements Engineering research?\n",
      "7. How do empirical results influence the practices in Requirements Engineering?\n",
      "8. What software tools are frequently used in Requirements Engineering research?\n",
      "9. What are the main challenges faced in Requirements Engineering according to empirical studies?\n",
      "10. Which conferences focus on Requirements Engineering?\n",
      "11. What journals frequently publish research on Requirements Engineering?\n",
      "12. What are the emerging trends in Requirements Engineering research?\n",
      "13. How is machine learning being integrated into Requirements Engineering?\n",
      "14. What empirical studies focus on Requirements Engineering in agile methodologies?\n",
      "15. What case studies have been pivotal in shaping Requirements Engineering practices?\n",
      "16. How do geographical regions impact trends in Requirements Engineering research?\n",
      "17. What collaboration networks exist among researchers in Requirements Engineering?\n",
      "18. What role does education play in evolving Requirements Engineering methodologies?\n",
      "19. How does industry collaboration affect the outcomes of Requirements Engineering research?\n",
      "20. What theoretical frameworks are often applied in Requirements Engineering studies?\n",
      "21. What are the most common tools and techniques for requirements elicitation in empirical studies?\n",
      "22. How does Requirements Engineering adapt to different software development life cycles?\n",
      "23. What are the prevalent issues in the specification and documentation phase of Requirements Engineering?\n",
      "24. How does Requirements Engineering address security requirements?\n",
      "25. What are the best practices for managing changing requirements in a project?\n",
      "26. What methodologies are being used in cross-domain Requirements Engineering research?\n",
      "27. How are non-functional requirements handled in empirical research?\n",
      "28. What are the socio-technical aspects considered in Requirements Engineering studies?\n",
      "29. How are requirements prioritization techniques evaluated in empirical research?\n",
      "30. What impact do regulatory requirements have on the engineering process?\n",
      "31. How effective are visualization tools in communicating requirements?\n",
      "32. What empirical research addresses collaboration in distributed Requirements Engineering teams?\n",
      "33. How are requirements verified and validated in different industry contexts?\n",
      "34. What impact has cloud computing had on Requirements Engineering practices?\n",
      "35. How do empirical studies measure the success of Requirements Engineering processes?\n",
      "36. What are the latest innovations in Requirements Engineering documented through empirical research?\n",
      "37. What role do stakeholder interviews play in the empirical research of Requirements Engineering?\n",
      "38. How do cultural differences impact Requirements Engineering practices?\n",
      "39. What types of requirements conflicts are commonly reported in empirical studies?\n",
      "40. How does Requirements Engineering interact with user experience design?\n",
      "41. What challenges do emerging technologies like IoT pose for Requirements Engineering?\n",
      "42. How do Requirements Engineering processes differ between software products and services?\n",
      "43. What are some case examples of successful Requirements Engineering in large-scale projects?\n",
      "44. How are privacy concerns addressed in Requirements Engineering according to empirical studies?\n",
      "45. What are the ethical considerations in the data gathering phase of Requirements Engineering?\n",
      "46. How are Requirements Engineering practices adapted for open-source projects?\n",
      "47. What assessment tools are available for evaluating the efficacy of Requirements Engineering processes?\n",
      "48. What training methods are effective for Requirements Engineering roles according to empirical studies?\n",
      "49. How does communication among stakeholders influence Requirements Engineering outcomes?\n",
      "50. What processes are recommended for the maintenance of requirements after deployment?\n",
      "51. What empirical research exists on Requirements Engineering in government projects?\n",
      "52. How does artificial intelligence influence the future directions of Requirements Engineering?\n",
      "53. What methodologies are proposed for linking business goals with technical requirements?\n",
      "54. How does Requirements Engineering manage the risk of project failure?\n",
      "55. What strategies are employed for requirements traceability in software projects?\n",
      "56. What role does Requirements Engineering play in disaster recovery planning?\n",
      "57. What metrics are most effective for quantifying the performance of Requirements Engineering?\n",
      "58. How are dependencies between requirements managed in complex systems?\n",
      "59. What are the comparative studies on traditional vs contemporary RE techniques?\n",
      "60. How are stakeholder feedback mechanisms designed in Requirements Engineering processes?\n",
      "61. What research covers conflict resolution strategies in Requirements Engineering?\n",
      "62. What are the implications of budget constraints on Requirements Engineering?\n",
      "63. How are different graphical models utilized in Requirements Engineering studies?\n",
      "64. What are the success stories of Requirements Engineering in critical systems like healthcare or aerospace?\n",
      "65. How do requirements evolve during the software development cycle in empirical studies?\n",
      "66. What are the frequent misconceptions about Requirements Engineering in the academic sphere?\n",
      "67. How does legislation impact Requirements Engineering processes?\n",
      "68. What are the implications of global pandemics on Requirements Engineering?\n",
      "69. What empirical studies focus on Requirements Engineering for mobile applications?\n",
      "70. How do empirical studies suggest improving client-stakeholder communication in Requirements Engineering?\n",
      "\n",
      "These questions will guide the development and evaluation of your knowledge graph, ensuring it addresses the significant facets of empirical research in Requirements Engineering.\n",
      "reference: []\n"
     ]
    }
   ],
   "source": [
    "query = \"Now you are developing an knowledge graph about the state and evolution of the empirical research in Requirements Engineering. Derive 77 competency questions.\"\n",
    "response = get_response(query,client,assistant,thread)\n",
    "print(f\"query: {query}\")\n",
    "print(f'response: {response[0]}')\n",
    "print(f\"reference: {response[1]}\")"
   ]
  },
  {
   "cell_type": "code",
   "execution_count": 13,
   "metadata": {},
   "outputs": [
    {
     "name": "stdout",
     "output_type": "stream",
     "text": [
      "message_content: Text(annotations=[], value=\"Creating a well-rounded set of 77 competency questions for a knowledge graph on empirical research in Requirements Engineering involves covering aspects like methodologies, historical evolution, contributions from academic and industrial circles, tools, challenges, and future directions. Here's an expanded list from the previous 70 to 77 questions:\\n\\n1. What methodologies dominate empirical research in Requirements Engineering?\\n2. How has the evolution of methodologies in Requirements Engineering been documented over the past decades?\\n3. What are the landmark papers in Requirements Engineering?\\n4. Which researchers have made the most significant contributions to the field of Requirements Engineering?\\n5. Which academic institutions are leaders in Requirements Engineering research?\\n6. What organizations or bodies fund Requirements Engineering research?\\n7. How do empirical results impact the methodologies and practices in Requirements Engineering?\\n8. What software tools are commonly used in Requirements Engineering studies?\\n9. What are the primary challenges identified in recent Requirements Engineering research?\\n10. Which notable conferences focus on presenting Requirements Engineering findings?\\n11. What journals are known for publishing high-impact Requirements Engineering research?\\n12. What emerging trends are reshaping Requirements Engineering research?\\n13. How is artificial intelligence integrated into current Requirements Engineering practices?\\n14. What studies focus on the application of Requirements Engineering in agile development environments?\\n15. Which case studies have significantly influenced Requirements Engineering practices?\\n16. How do different geographical regions contribute to and impact Requirements Engineering research?\\n17. What networks or collaborations are prominent among Requirements Engineering researchers?\\n18. What is the role of formal education in advancing Requirements Engineering practices?\\n19. How does cooperation with industry partners influence Requirements Engineering research outcomes?\\n20. Which theoretical frameworks are commonly applied in Requirements Engineering research?\\n21. What techniques are most effective for eliciting requirements according to recent studies?\\n22. How are different software development life cycles accommodating Requirements Engineering phases?\\n23. What issues predominantly arise during the specification phase of Requirements Engineering?\\n24. How are security requirements addressed in empirical Requirements Engineering studies?\\n25. What are the most accepted practices for managing requirements changes during software development?\\n26. How is Requirements Engineering applied across different domains like healthcare, finance, and education?\\n27. What methods are used to handle non-functional requirements in recent studies?\\n28. What socio-technical elements are considered in modern Requirements Engineering?\\n29. How is the effectiveness of requirements prioritization techniques assessed in empirical research?\\n30. What role do regulatory and compliance requirements play in the Requirements Engineering process?\\n31. How effective are visualization tools for requirements communication in practice?\\n32. Which studies address the challenges of collaborative Requirements Engineering in remote teams?\\n33. How is the verification and validation of requirements managed in various industries?\\n34. What effects has cloud computing introduced into Requirements Engineering procedures?\\n35. How do studies measure the effectiveness or success of a Requirements Engineering process?\\n36. What are the latest technological innovations impacting Requirements Engineering?\\n37. How crucial are stakeholder interviews in gathering requirements?\\n38. How do cultural differences influence Requirements Engineering processes and outcomes?\\n39. What types of conflicts commonly occur over requirements, and how are they resolved?\\n40. How is Requirements Engineering coordinated with user experience design?\\n41. What challenges do IoT and other emerging technologies pose to Requirements Engineering?\\n42. How are Requirements Engineering processes tailored for both products and services?\\n43. Can you provide examples of successful Requirements Engineering implementations in large projects?\\n44. How is privacy ensured in Requirements Engineering processes concerning empirical data?\\n45. What ethical considerations are essential during the data collection phase of Requirements Engineering?\\n46. How are Requirements Engineering methods and tools adapted for open-source projects?\\n47. What tools assess the quality or effectiveness of Requirements Engineering processes?\\n48. Which empirical studies focus on training for Requirements Engineering roles?\\n49. How does stakeholder communication impact the outcomes of Requirements Engineering?\\n50. What strategies are recommended for maintaining requirements after initial deployment?\\n51. What are the particular challenges and solutions documented for government-related Requirements Engineering projects?\\n52. How might future advancements in AI alter Requirements Engineering strategies and results?\\n53. What methodologies link business goals and technical requirements effectively?\\n54. How does Requirements Engineering help mitigate the risk of project failures?\\n55. How are requirements traceability concerns addressed in different software project settings?\\n56. What role does Requirements Engineering play in disaster recovery and contingency planning?\\n57. What metrics are most useful for determining the effectiveness of Requirements Engineering practices?\\n58. How does Requirements Engineering manage dependencies within complex systems and products?\\n59. Which empirical studies compare traditional and modern Requirements Engineering techniques?\\n60. How are feedback mechanisms from stakeholders designed and implemented in Requirements Engineering processes?\\n61. Which research discusses strategies for resolving conflicts in Requirements Engineering?\\n62. What are the effects of budget limitations on successfully conducting Requirements Engineering?\\n63. Which graphical models are most commonly used in Requirements Engineering research?\\n64. How do empirical studies document the success of Requirements Engineering in critical infrastructure projects (e.g., healthcare, aerospace)?\\n65. How do requirements evolve during the software development lifecycle according to empirical research?\\n66. What are common misunderstandings about Requirements Engineering in academic research?\\n67. How do legislative changes impact Requirements Engineering processes and practices?\\n68. What implications do global pandemics have on conducting Requirements Engineering?\\n69. Which studies focus on mobile application development within Requirements Engineering?\\n70. How can client-stakeholder communication be improved based on empirical research findings in Requirements Engineering?\\n71. What strategies are effective for integrating user feedback into the Requirements Engineering process?\\n72. How is Requirements Engineering being adapted for cybersecurity projects?\\n73. How does Requirements Engineering support the scalability of software systems?\\n74. What are the implications of virtual reality technologies on Requirements Engineering practices?\\n75. How do empirical studies address the issue of scope creep in software projects?\\n76. What are the best practices for conducting Requirements Engineering in multinational projects?\\n77. How do emerging standards and protocols influence Requirements Engineering methodologies and outcomes?\\n\\nThese questions should guide the development of the knowledge graph to cover the fundamental and intricate aspects of Requirements Engineering, providing insightful and actionable information from empirical research.\")\n",
      "query: Now you are developing an knowledge graph about the state and evolution of the empirical research in Requirements Engineering. Derive 77 competency questions.\n",
      "response: Creating a well-rounded set of 77 competency questions for a knowledge graph on empirical research in Requirements Engineering involves covering aspects like methodologies, historical evolution, contributions from academic and industrial circles, tools, challenges, and future directions. Here's an expanded list from the previous 70 to 77 questions:\n",
      "\n",
      "1. What methodologies dominate empirical research in Requirements Engineering?\n",
      "2. How has the evolution of methodologies in Requirements Engineering been documented over the past decades?\n",
      "3. What are the landmark papers in Requirements Engineering?\n",
      "4. Which researchers have made the most significant contributions to the field of Requirements Engineering?\n",
      "5. Which academic institutions are leaders in Requirements Engineering research?\n",
      "6. What organizations or bodies fund Requirements Engineering research?\n",
      "7. How do empirical results impact the methodologies and practices in Requirements Engineering?\n",
      "8. What software tools are commonly used in Requirements Engineering studies?\n",
      "9. What are the primary challenges identified in recent Requirements Engineering research?\n",
      "10. Which notable conferences focus on presenting Requirements Engineering findings?\n",
      "11. What journals are known for publishing high-impact Requirements Engineering research?\n",
      "12. What emerging trends are reshaping Requirements Engineering research?\n",
      "13. How is artificial intelligence integrated into current Requirements Engineering practices?\n",
      "14. What studies focus on the application of Requirements Engineering in agile development environments?\n",
      "15. Which case studies have significantly influenced Requirements Engineering practices?\n",
      "16. How do different geographical regions contribute to and impact Requirements Engineering research?\n",
      "17. What networks or collaborations are prominent among Requirements Engineering researchers?\n",
      "18. What is the role of formal education in advancing Requirements Engineering practices?\n",
      "19. How does cooperation with industry partners influence Requirements Engineering research outcomes?\n",
      "20. Which theoretical frameworks are commonly applied in Requirements Engineering research?\n",
      "21. What techniques are most effective for eliciting requirements according to recent studies?\n",
      "22. How are different software development life cycles accommodating Requirements Engineering phases?\n",
      "23. What issues predominantly arise during the specification phase of Requirements Engineering?\n",
      "24. How are security requirements addressed in empirical Requirements Engineering studies?\n",
      "25. What are the most accepted practices for managing requirements changes during software development?\n",
      "26. How is Requirements Engineering applied across different domains like healthcare, finance, and education?\n",
      "27. What methods are used to handle non-functional requirements in recent studies?\n",
      "28. What socio-technical elements are considered in modern Requirements Engineering?\n",
      "29. How is the effectiveness of requirements prioritization techniques assessed in empirical research?\n",
      "30. What role do regulatory and compliance requirements play in the Requirements Engineering process?\n",
      "31. How effective are visualization tools for requirements communication in practice?\n",
      "32. Which studies address the challenges of collaborative Requirements Engineering in remote teams?\n",
      "33. How is the verification and validation of requirements managed in various industries?\n",
      "34. What effects has cloud computing introduced into Requirements Engineering procedures?\n",
      "35. How do studies measure the effectiveness or success of a Requirements Engineering process?\n",
      "36. What are the latest technological innovations impacting Requirements Engineering?\n",
      "37. How crucial are stakeholder interviews in gathering requirements?\n",
      "38. How do cultural differences influence Requirements Engineering processes and outcomes?\n",
      "39. What types of conflicts commonly occur over requirements, and how are they resolved?\n",
      "40. How is Requirements Engineering coordinated with user experience design?\n",
      "41. What challenges do IoT and other emerging technologies pose to Requirements Engineering?\n",
      "42. How are Requirements Engineering processes tailored for both products and services?\n",
      "43. Can you provide examples of successful Requirements Engineering implementations in large projects?\n",
      "44. How is privacy ensured in Requirements Engineering processes concerning empirical data?\n",
      "45. What ethical considerations are essential during the data collection phase of Requirements Engineering?\n",
      "46. How are Requirements Engineering methods and tools adapted for open-source projects?\n",
      "47. What tools assess the quality or effectiveness of Requirements Engineering processes?\n",
      "48. Which empirical studies focus on training for Requirements Engineering roles?\n",
      "49. How does stakeholder communication impact the outcomes of Requirements Engineering?\n",
      "50. What strategies are recommended for maintaining requirements after initial deployment?\n",
      "51. What are the particular challenges and solutions documented for government-related Requirements Engineering projects?\n",
      "52. How might future advancements in AI alter Requirements Engineering strategies and results?\n",
      "53. What methodologies link business goals and technical requirements effectively?\n",
      "54. How does Requirements Engineering help mitigate the risk of project failures?\n",
      "55. How are requirements traceability concerns addressed in different software project settings?\n",
      "56. What role does Requirements Engineering play in disaster recovery and contingency planning?\n",
      "57. What metrics are most useful for determining the effectiveness of Requirements Engineering practices?\n",
      "58. How does Requirements Engineering manage dependencies within complex systems and products?\n",
      "59. Which empirical studies compare traditional and modern Requirements Engineering techniques?\n",
      "60. How are feedback mechanisms from stakeholders designed and implemented in Requirements Engineering processes?\n",
      "61. Which research discusses strategies for resolving conflicts in Requirements Engineering?\n",
      "62. What are the effects of budget limitations on successfully conducting Requirements Engineering?\n",
      "63. Which graphical models are most commonly used in Requirements Engineering research?\n",
      "64. How do empirical studies document the success of Requirements Engineering in critical infrastructure projects (e.g., healthcare, aerospace)?\n",
      "65. How do requirements evolve during the software development lifecycle according to empirical research?\n",
      "66. What are common misunderstandings about Requirements Engineering in academic research?\n",
      "67. How do legislative changes impact Requirements Engineering processes and practices?\n",
      "68. What implications do global pandemics have on conducting Requirements Engineering?\n",
      "69. Which studies focus on mobile application development within Requirements Engineering?\n",
      "70. How can client-stakeholder communication be improved based on empirical research findings in Requirements Engineering?\n",
      "71. What strategies are effective for integrating user feedback into the Requirements Engineering process?\n",
      "72. How is Requirements Engineering being adapted for cybersecurity projects?\n",
      "73. How does Requirements Engineering support the scalability of software systems?\n",
      "74. What are the implications of virtual reality technologies on Requirements Engineering practices?\n",
      "75. How do empirical studies address the issue of scope creep in software projects?\n",
      "76. What are the best practices for conducting Requirements Engineering in multinational projects?\n",
      "77. How do emerging standards and protocols influence Requirements Engineering methodologies and outcomes?\n",
      "\n",
      "These questions should guide the development of the knowledge graph to cover the fundamental and intricate aspects of Requirements Engineering, providing insightful and actionable information from empirical research.\n",
      "reference: []\n"
     ]
    }
   ],
   "source": [
    "query = \"Now you are developing an knowledge graph about the state and evolution of the empirical research in Requirements Engineering. Derive 77 competency questions.\"\n",
    "response = get_response(query,client,assistant,thread)\n",
    "print(f\"query: {query}\")\n",
    "print(f'response: {response[0]}')\n",
    "print(f\"reference: {response[1]}\")"
   ]
  },
  {
   "cell_type": "markdown",
   "metadata": {},
   "source": [
    "### Use Sentence Transformers to compare CQs similarity"
   ]
  },
  {
   "cell_type": "code",
   "execution_count": 60,
   "metadata": {},
   "outputs": [
    {
     "name": "stderr",
     "output_type": "stream",
     "text": [
      "/Users/sherry/anaconda3/lib/python3.11/site-packages/huggingface_hub/file_download.py:1132: FutureWarning: `resume_download` is deprecated and will be removed in version 1.0.0. Downloads always resume when possible. If you want to force a new download, use `force_download=True`.\n",
      "  warnings.warn(\n"
     ]
    }
   ],
   "source": [
    "# !pip install -U sentence-transformers\n",
    "from sentence_transformers import SentenceTransformer, util\n",
    "import pandas as pd\n",
    "\n",
    "model = SentenceTransformer(\"all-MiniLM-L6-v2\")\n",
    "\n",
    "data = pd.read_csv('/Users/sherry/python-coding/Prompting/requirement-engeneering/genCQs-expertCQs.csv', names=['expertCQs', 'genCQs'], header=0)\n",
    "\n",
    "genCQs = list(data['genCQs'])\n",
    "expertCQs = list(data['expertCQs'])\n",
    "\n",
    "genCQs_embeddings = model.encode(genCQs)\n",
    "expertCQs_embeddings = model.encode(expertCQs)\n",
    "\n",
    "# Compute cosine similarity between all pairs\n",
    "cos_sim = util.cos_sim(genCQs_embeddings, expertCQs_embeddings)"
   ]
  },
  {
   "cell_type": "code",
   "execution_count": 62,
   "metadata": {},
   "outputs": [
    {
     "name": "stdout",
     "output_type": "stream",
     "text": [
      "Top-5 most similar pairs:\n",
      "What methodologies dominate empirical research in Requirements Engineering? \t How do the authors justify the selection and combination of empirical methods and design elements? \t 0.5918\n",
      "How do empirical studies address the issue of scope creep in software projects? \t How many empirical studies are by authors working for large software development companies? \t 0.5772\n",
      "Which case studies have significantly influenced Requirements Engineering practices? \t How have the proportions of case studies and action research in the empirical methods used evolved over time? \t 0.5704\n",
      "How do empirical results impact the methodologies and practices in Requirements Engineering? \t How do the authors justify the selection and combination of empirical methods and design elements? \t 0.5698\n",
      "What methodologies dominate empirical research in Requirements Engineering? \t How have the proportions of case studies and action research in the empirical methods used evolved over time? \t 0.5641\n"
     ]
    }
   ],
   "source": [
    "# Add all pairs to a list with their cosine similarity score\n",
    "all_sentence_combinations = []\n",
    "for genCQs_idx in range(77):\n",
    "    for expertCQs_idx in range(77):\n",
    "        all_sentence_combinations.append([cos_sim[genCQs_idx][expertCQs_idx], genCQs_idx, expertCQs_idx])\n",
    "\n",
    "# Sort list by the highest cosine similarity score\n",
    "all_sentence_combinations = sorted(all_sentence_combinations, key=lambda x: x[0], reverse=True)\n",
    "\n",
    "print(\"Top-5 most similar pairs:\")\n",
    "for score, genCQs_idx, expertCQs_idx in all_sentence_combinations[0:5]:\n",
    "    print(\"{} \\t {} \\t {:.4f}\".format(genCQs[genCQs_idx], expertCQs[expertCQs_idx], cos_sim[genCQs_idx][expertCQs_idx]))"
   ]
  },
  {
   "cell_type": "markdown",
   "metadata": {},
   "source": [
    "### Save cosine similarity score and the corresponding CQ pairs to a csv file"
   ]
  },
  {
   "cell_type": "code",
   "execution_count": 64,
   "metadata": {},
   "outputs": [],
   "source": [
    "# save cosine similarity score and the corresponding CQ pairs to a csv file\n",
    "import torch\n",
    "\n",
    "genCQ_ls = []\n",
    "expertCQ_ls = []\n",
    "score_ls = []\n",
    "n = len(all_sentence_combinations)\n",
    "for score, genCQs_idx, expertCQs_idx in all_sentence_combinations[0:n]:\n",
    "    # print(\"{} \\t {} \\t {:.4f}\".format(genCQs[genCQs_idx], expertCQs[expertCQs_idx], cos_sim[genCQs_idx][expertCQs_idx]))\n",
    "    # print(f\"{score.item():.4f}\")\n",
    "    # print(genCQs[genCQs_idx])\n",
    "    # print(expertCQs[expertCQs_idx])\n",
    "    genCQ_ls.append(genCQs[genCQs_idx])\n",
    "    expertCQ_ls.append(expertCQs[expertCQs_idx])\n",
    "    score_ls.append(f\"{score.item():.4f}\")\n",
    "cos_sim_df = pd.DataFrame()\n",
    "cos_sim_df['genCQ'] = genCQ_ls\n",
    "cos_sim_df['expertCQ'] = expertCQ_ls\n",
    "cos_sim_df['cos_score'] = score_ls\n",
    "\n",
    "cos_sim_df.to_csv(\"/Users/sherry/python-coding/Prompting/requirement-engeneering/gen-expert-CQs-cos-more-reference.csv\")"
   ]
  }
 ],
 "metadata": {
  "kernelspec": {
   "display_name": "base",
   "language": "python",
   "name": "python3"
  },
  "language_info": {
   "codemirror_mode": {
    "name": "ipython",
    "version": 3
   },
   "file_extension": ".py",
   "mimetype": "text/x-python",
   "name": "python",
   "nbconvert_exporter": "python",
   "pygments_lexer": "ipython3",
   "version": "3.11.5"
  }
 },
 "nbformat": 4,
 "nbformat_minor": 2
}
